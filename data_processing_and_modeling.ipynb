{
  "nbformat": 4,
  "nbformat_minor": 0,
  "metadata": {
    "colab": {
      "provenance": []
    },
    "kernelspec": {
      "name": "python3",
      "display_name": "Python 3"
    },
    "language_info": {
      "name": "python"
    }
  },
  "cells": [
    {
      "cell_type": "markdown",
      "source": [
        "Импорт библиотек"
      ],
      "metadata": {
        "id": "tUW0rPdVnUN9"
      }
    },
    {
      "cell_type": "code",
      "source": [
        "from imblearn.over_sampling import SMOTE\n",
        "from sklearn.model_selection import train_test_split\n",
        "from sklearn.preprocessing import StandardScaler\n",
        "from sklearn.linear_model import LogisticRegression\n",
        "from sklearn.ensemble import RandomForestClassifier, GradientBoostingClassifier\n",
        "from sklearn.metrics import roc_auc_score\n",
        "import pandas as pd\n",
        "import numpy as np\n",
        "from scipy import stats\n",
        "import matplotlib.pyplot as plt\n",
        "import seaborn as sns"
      ],
      "metadata": {
        "id": "m85ZXVMmkYCF"
      },
      "execution_count": 21,
      "outputs": []
    },
    {
      "cell_type": "markdown",
      "source": [
        "Загрузка данных\n",
        "\n"
      ],
      "metadata": {
        "id": "6YPKwwoOkgAL"
      }
    },
    {
      "cell_type": "code",
      "source": [
        "# Загрузка данных\n",
        "data_path = '/content/bank_dataset_hash.csv'\n",
        "data = pd.read_csv(data_path, encoding='cp1251', sep=';', low_memory=False)"
      ],
      "metadata": {
        "id": "CIIpK4CckZtT"
      },
      "execution_count": 12,
      "outputs": []
    },
    {
      "cell_type": "markdown",
      "source": [
        "Преобразование данных и обработка данных"
      ],
      "metadata": {
        "id": "yXQq3V4WnjXX"
      }
    },
    {
      "cell_type": "code",
      "source": [
        "# Преобразование числовых строковых данных\n",
        "def replace_comma_and_convert(column):\n",
        "    return pd.to_numeric(column.str.replace(',', '.'), errors='coerce')"
      ],
      "metadata": {
        "id": "AYDnYgkGkZvm"
      },
      "execution_count": 13,
      "outputs": []
    },
    {
      "cell_type": "code",
      "source": [
        "# Переименование столбцов\n",
        "new_columns = [\n",
        "    \"snapshot_dt\", \"agreement\", \"customer\", \"f_triggered\",\n",
        "    \"feature1\", \"feature2\", \"feature3\", \"feature4\",\n",
        "    \"feature5\", \"feature6\", \"feature7\", \"feature8\",\n",
        "    \"feature9\", \"feature10\", \"feature11\", \"feature12\",\n",
        "    \"feature13\", \"feature14\", \"feature15\", \"feature16\",\n",
        "    \"feature17\", \"feature18\", \"feature19\", \"feature20\",\n",
        "    \"feature21\", \"feature22\", \"feature23\", \"feature24\",\n",
        "    \"feature25\", \"feature26\", \"feature27\", \"feature28\",\n",
        "    \"feature29\", \"feature30\", \"feature31\", \"feature32\",\n",
        "    \"feature33\", \"feature34\", \"feature35\", \"feature36\",\n",
        "    \"feature37\", \"feature38\", \"feature39\", \"feature40\",\n",
        "    \"feature41\", \"feature42\", \"feature43\", \"feature44\",\n",
        "    \"feature45\", \"feature46\", \"feature47\", \"feature48\",\n",
        "    \"feature49\", \"feature50\", \"feature51\", \"feature52\",\n",
        "    \"feature53\", \"feature54\", \"feature55\", \"feature56\",\n",
        "    \"feature57\", \"feature58\", \"feature59\", \"feature60\",\n",
        "    \"feature61\", \"feature62\"\n",
        "]\n",
        "data.columns = new_columns"
      ],
      "metadata": {
        "id": "3Hg4wH-PkZx9"
      },
      "execution_count": 14,
      "outputs": []
    },
    {
      "cell_type": "code",
      "source": [
        "# Замена значений inf, -inf, NaN, ‹Ћ†њ на пустые значения\n",
        "data = data.apply(lambda col: replace_comma_and_convert(col) if col.dtype == 'object' else col)\n",
        "data.replace([np.inf, -np.inf, 'inf', '-inf', 'NaN', '‹Ћ†њ'], np.nan, inplace=True)"
      ],
      "metadata": {
        "id": "uncPEBZykZ0X"
      },
      "execution_count": 15,
      "outputs": []
    },
    {
      "cell_type": "code",
      "source": [
        "# Удаление столбцов с более чем 70% пропусков\n",
        "threshold = 0.7 * len(data)\n",
        "columns_with_many_nans = data.columns[data.isnull().mean() > 0.7]\n",
        "data = data.drop(columns=columns_with_many_nans)"
      ],
      "metadata": {
        "id": "ZC6jbv3qkZ2h"
      },
      "execution_count": 16,
      "outputs": []
    },
    {
      "cell_type": "code",
      "source": [
        "# Удаление дубликатов по столбцу 'customer'\n",
        "data = data.drop_duplicates(subset='customer', keep='first')"
      ],
      "metadata": {
        "id": "ISqFSUWkkZ5z"
      },
      "execution_count": 17,
      "outputs": []
    },
    {
      "cell_type": "code",
      "source": [
        "# Заполнение пустых значений медианой\n",
        "data = data.fillna(data.median())"
      ],
      "metadata": {
        "id": "P1-5uEaEktEl"
      },
      "execution_count": 18,
      "outputs": []
    },
    {
      "cell_type": "code",
      "source": [
        "# Разделение данных на классы\n",
        "data_class_0 = data[data['f_triggered'] == 0]\n",
        "data_class_1 = data[data['f_triggered'] == 1]\n",
        "\n",
        "# Функции для поиска выбросов\n",
        "def find_outliers_iqr(df):\n",
        "    Q1 = df.quantile(0.25)\n",
        "    Q3 = df.quantile(0.75)\n",
        "    IQR = Q3 - Q1\n",
        "    lower_bound = Q1 - 1.5 * IQR\n",
        "    upper_bound = Q3 + 1.5 * IQR\n",
        "    outliers = (df < lower_bound) | (df > upper_bound)\n",
        "    return outliers\n",
        "\n",
        "def find_outliers_z(df):\n",
        "    z_scores = np.abs(stats.zscore(df.select_dtypes(include=[np.number])))\n",
        "    outliers = (z_scores > 3)\n",
        "    return pd.DataFrame(outliers, columns=df.select_dtypes(include=[np.number]).columns)\n",
        "\n",
        "# Поиск и обработка выбросов для класса 0\n",
        "outliers_iqr_0 = find_outliers_iqr(data_class_0)\n",
        "outliers_z_0 = find_outliers_z(data_class_0)\n",
        "outliers_combined_0 = outliers_iqr_0 | outliers_z_0\n",
        "data_class_0.loc[outliers_combined_0.any(axis=1)] = np.nan  # Заменяем выбросы на NaN\n",
        "data_class_0 = data_class_0.fillna(data_class_0.median())\n",
        "\n",
        "# Поиск и обработка выбросов для класса 1\n",
        "outliers_iqr_1 = find_outliers_iqr(data_class_1)\n",
        "outliers_z_1 = find_outliers_z(data_class_1)\n",
        "outliers_combined_1 = outliers_iqr_1 | outliers_z_1\n",
        "data_class_1.loc[outliers_combined_1.any(axis=1)] = np.nan  # Заменяем выбросы на NaN\n",
        "data_class_1 = data_class_1.fillna(data_class_1.median())\n",
        "\n",
        "# Объединение данных обратно\n",
        "data_processed = pd.concat([data_class_0, data_class_1])\n",
        "\n",
        "# Проверка распределения классов после обработки выбросов\n",
        "print(\"Class distribution after handling outliers separately:\\n\", data_processed['f_triggered'].value_counts())\n",
        "\n",
        "# Сохранение итогового обработанного датасета\n",
        "data_processed.to_csv('/content/processed_data_no_outliers.csv', index=False)"
      ],
      "metadata": {
        "id": "njteNbbPf7NT",
        "colab": {
          "base_uri": "https://localhost:8080/"
        },
        "outputId": "c17fd114-b35c-470e-8acf-dd75df3b99e5"
      },
      "execution_count": 19,
      "outputs": [
        {
          "output_type": "stream",
          "name": "stdout",
          "text": [
            "Class distribution after handling outliers separately:\n",
            " f_triggered\n",
            "0.0    98358\n",
            "1.0     2008\n",
            "Name: count, dtype: int64\n"
          ]
        }
      ]
    },
    {
      "cell_type": "markdown",
      "source": [
        "Обучение и оценка моделей"
      ],
      "metadata": {
        "id": "bBYjzpgXnxIe"
      }
    },
    {
      "cell_type": "code",
      "source": [
        "# Разделение данных на тренировочные и тестовые выборки\n",
        "X = data_processed.drop(columns=['f_triggered'])\n",
        "y = data_processed['f_triggered']\n",
        "\n",
        "X_train, X_test, y_train, y_test = train_test_split(X, y, test_size=0.2, random_state=42)\n",
        "\n",
        "# Применение SMOTE для увеличения числа примеров класса 1.0\n",
        "smote = SMOTE(random_state=42)\n",
        "X_train_smote, y_train_smote = smote.fit_resample(X_train, y_train)\n",
        "\n",
        "# Стандартизация признаков\n",
        "scaler = StandardScaler()\n",
        "columns_to_scale = X_train.columns.difference(['snapshot_dt', 'agreement', 'customer'])\n",
        "X_train_smote[columns_to_scale] = scaler.fit_transform(X_train_smote[columns_to_scale])\n",
        "X_test[columns_to_scale] = scaler.transform(X_test[columns_to_scale])\n",
        "\n",
        "# Функция для расчета Gini коэффициента\n",
        "def gini_score(y_true, y_pred):\n",
        "    roc_auc = roc_auc_score(y_true, y_pred)\n",
        "    return 2 * roc_auc - 1\n",
        "\n",
        "# Обучение и оценка моделей\n",
        "models = {\n",
        "    'Logistic Regression': LogisticRegression(max_iter=1000, random_state=42),\n",
        "    'Random Forest': RandomForestClassifier(n_estimators=100, random_state=42),\n",
        "    'Gradient Boosting': GradientBoostingClassifier(n_estimators=100, random_state=42)\n",
        "}\n",
        "\n",
        "gini_scores = {}\n",
        "\n",
        "for name, model in models.items():\n",
        "    model.fit(X_train_smote, y_train_smote)\n",
        "    y_pred = model.predict_proba(X_test)[:, 1]\n",
        "    gini = gini_score(y_test, y_pred)\n",
        "    gini_scores[name] = gini\n",
        "\n",
        "# Вывод результатов\n",
        "print(\"Gini баллы моделей:\")\n",
        "for name, gini in gini_scores.items():\n",
        "    print(f\"{name}: {gini}\")\n",
        "\n",
        "# Определение наилучшей модели\n",
        "best_model_name = max(gini_scores, key=gini_scores.get)\n",
        "best_model = models[best_model_name]\n",
        "\n",
        "# Оценка важности признаков для наилучшей модели\n",
        "importances = None\n",
        "if best_model_name in ['Random Forest', 'Gradient Boosting']:\n",
        "    importances = best_model.feature_importances_\n",
        "    feature_importances = pd.Series(importances, index=X_train.columns).sort_values(ascending=False)\n",
        "elif best_model_name == 'Logistic Regression':\n",
        "    importances = best_model.coef_[0]\n",
        "    feature_importances = pd.Series(importances, index=X_train.columns).sort_values(ascending=False)"
      ],
      "metadata": {
        "colab": {
          "base_uri": "https://localhost:8080/"
        },
        "id": "FqKSzmu5gdV-",
        "outputId": "edfe4884-f5f6-4782-903b-ebb0a68192b5"
      },
      "execution_count": 23,
      "outputs": [
        {
          "output_type": "stream",
          "name": "stdout",
          "text": [
            "Gini баллы моделей:\n",
            "Logistic Regression: 0.819018915934514\n",
            "Random Forest: 0.9959477171251623\n",
            "Gradient Boosting: 0.9975858178501127\n"
          ]
        }
      ]
    },
    {
      "cell_type": "code",
      "source": [
        "print(f\"Важные характеристики для лучшей модели ({best_model_name}):\")\n",
        "print(feature_importances)"
      ],
      "metadata": {
        "id": "aDBY59JbnMC5"
      },
      "execution_count": null,
      "outputs": []
    },
    {
      "cell_type": "markdown",
      "source": [
        "### ***EDA***"
      ],
      "metadata": {
        "id": "Bzf1XXWUJXEH"
      }
    },
    {
      "cell_type": "code",
      "source": [
        "def display_columns_in_batches(data, batch_size=10, row_count=20):\n",
        "    num_cols = data.shape[1]\n",
        "    for start in range(0, num_cols, batch_size):\n",
        "        end = start + batch_size\n",
        "        print(f\"Displaying columns {start + 1} to {min(end, num_cols)}:\")\n",
        "        display(data.iloc[:row_count, start:end])\n",
        "        print(\"\\n\" + \"=\"*80 + \"\\n\")\n",
        "\n",
        "display_columns_in_batches(data, batch_size=10, row_count=50)"
      ],
      "metadata": {
        "id": "-1Wik94QPMBu"
      },
      "execution_count": null,
      "outputs": []
    },
    {
      "cell_type": "code",
      "source": [
        "# Поиск выбросов с использованием IQR\n",
        "def find_outliers_iqr(df):\n",
        "    Q1 = df.quantile(0.25)\n",
        "    Q3 = df.quantile(0.75)\n",
        "    IQR = Q3 - Q1\n",
        "    outliers = (df < (Q1 - 1.5 * IQR)) | (df > (Q3 + 1.5 * IQR))\n",
        "    return outliers\n",
        "\n",
        "outliers_iqr = find_outliers_iqr(data)\n",
        "print(\"IQR-based outliers:\")\n",
        "print(outliers_iqr)\n",
        "\n",
        "# Поиск выбросов с использованием Z-оценки\n",
        "def find_outliers_z(df):\n",
        "    z_scores = np.abs(stats.zscore(df.select_dtypes(include=[np.number])))\n",
        "    outliers = (z_scores > 3)\n",
        "    return pd.DataFrame(outliers, columns=df.select_dtypes(include=[np.number]).columns)\n",
        "\n",
        "outliers_z = find_outliers_z(data)\n",
        "print(\"Z-score-based outliers:\")\n",
        "print(outliers_z)\n",
        "\n",
        "# Вывод столбцов с выбросами\n",
        "outliers_columns_iqr = outliers_iqr.columns[outliers_iqr.any()].tolist()\n",
        "outliers_columns_z = outliers_z.columns[outliers_z.any()].tolist()\n",
        "\n",
        "print(f\"Columns with IQR-based outliers: {outliers_columns_iqr}\")\n",
        "print(f\"Columns with Z-score-based outliers: {outliers_columns_z}\")"
      ],
      "metadata": {
        "id": "4AUFq8NbbSjB"
      },
      "execution_count": null,
      "outputs": []
    },
    {
      "cell_type": "code",
      "source": [
        "def detect_outliers_zscore(data, threshold=3):\n",
        "    outliers = pd.DataFrame(index=data.index)\n",
        "    for column in data.select_dtypes(include=[np.number]).columns:\n",
        "        z_scores = np.abs(stats.zscore(data[column].dropna()))\n",
        "        is_outlier = z_scores > threshold\n",
        "        outliers[column] = is_outlier\n",
        "    return outliers\n",
        "\n",
        "outliers_zscore = detect_outliers_zscore(data)\n",
        "\n",
        "outliers_zscore.sum()"
      ],
      "metadata": {
        "id": "QPBp3coDEO51"
      },
      "execution_count": null,
      "outputs": []
    },
    {
      "cell_type": "code",
      "source": [
        "# Функция для визуализации выбросов\n",
        "def plot_outliers(df, outliers):\n",
        "    fig, axs = plt.subplots(nrows=len(df.columns), figsize=(10, 50))\n",
        "    for i, col in enumerate(df.columns):\n",
        "        sns.boxplot(x=df[col], ax=axs[i])\n",
        "        axs[i].set_title(f'Boxplot of {col}')\n",
        "        outliers_col = df[outliers[col]]\n",
        "        sns.scatterplot(x=outliers_col[col], y=[0]*len(outliers_col), color='red', ax=axs[i])\n",
        "    plt.tight_layout()\n",
        "    plt.show()\n",
        "\n",
        "# Вывод выбросов\n",
        "plot_outliers(data, outliers_iqr | outliers_z)"
      ],
      "metadata": {
        "id": "KyIuYWtoe3L0"
      },
      "execution_count": null,
      "outputs": []
    },
    {
      "cell_type": "code",
      "source": [
        "# Проверка результата\n",
        "print(data.info())\n",
        "print(data.head())"
      ],
      "metadata": {
        "id": "XqIrVdSTk2sN"
      },
      "execution_count": null,
      "outputs": []
    },
    {
      "cell_type": "code",
      "source": [
        "# Гистограммы числовых переменных\n",
        "numeric_cols = data.select_dtypes(include=['float64', 'int64']).columns\n",
        "\n",
        "print(\"\\nГистограммы числовых переменных:\")\n",
        "data[numeric_cols].hist(bins=30, figsize=(15, 10))\n",
        "plt.tight_layout()\n",
        "plt.show()\n",
        "\n",
        "# Графики распределения для категориальных переменных\n",
        "categorical_cols = data.select_dtypes(include=['object']).columns\n",
        "\n",
        "print(\"\\nГрафики распределения для категориальных переменных:\")\n",
        "for col in categorical_cols:\n",
        "    plt.figure(figsize=(10, 4))\n",
        "    sns.countplot(data[col])\n",
        "    plt.title(f'Распределение переменной {col}')\n",
        "    plt.show()\n",
        "\n",
        "# Тепловая карта корреляций\n",
        "print(\"\\nТепловая карта корреляций:\")\n",
        "plt.figure(figsize=(12, 8))\n",
        "correlation_matrix = data.corr()\n",
        "sns.heatmap(correlation_matrix, annot=True, cmap='coolwarm', linewidths=0.5)\n",
        "plt.title('Тепловая карта корреляций')\n",
        "plt.show()\n",
        "\n",
        "# Выявление выбросов с помощью ящичных диаграмм\n",
        "print(\"\\nЯщичные диаграммы для выявления выбросов:\")\n",
        "for col in numeric_cols:\n",
        "    if data[col].nunique() > 1:  # Проверка, что в колонке больше одного уникального значения\n",
        "        plt.figure(figsize=(10, 4))\n",
        "        sns.boxplot(data[col])\n",
        "        plt.title(f'Ящичная диаграмма переменной {col}')\n",
        "        plt.show()\n",
        "\n",
        "# Анализ пропусков\n",
        "print(\"\\nВизуализация пропусков:\")\n",
        "plt.figure(figsize=(12, 8))\n",
        "sns.heatmap(data.isnull(), cbar=False, cmap='viridis')\n",
        "plt.title('Визуализация пропусков')\n",
        "plt.show()"
      ],
      "metadata": {
        "id": "C8cORMM9PGPD"
      },
      "execution_count": null,
      "outputs": []
    }
  ]
}